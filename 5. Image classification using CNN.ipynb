{
 "cells": [
  {
   "cell_type": "code",
   "execution_count": null,
   "id": "3045b25a",
   "metadata": {
    "vscode": {
     "languageId": "plaintext"
    }
   },
   "outputs": [],
   "source": [
    "# IMPORTANT: RUN THIS CELL IN ORDER TO IMPORT YOUR KAGGLE DATA SOURCES,\n",
    "# THEN FEEL FREE TO DELETE THIS CELL.\n",
    "# NOTE: THIS NOTEBOOK ENVIRONMENT DIFFERS FROM KAGGLE'S PYTHON\n",
    "# ENVIRONMENT SO THERE MAY BE MISSING LIBRARIES USED BY YOUR\n",
    "# NOTEBOOK.\n",
    "import kagglehub\n",
    "msambare_fer2013_path = kagglehub.dataset_download('msambare/fer2013')\n",
    "\n",
    "print('Data source import complete.')\n"
   ]
  },
  {
   "cell_type": "code",
   "execution_count": null,
   "id": "7a8c4fd0",
   "metadata": {
    "vscode": {
     "languageId": "plaintext"
    }
   },
   "outputs": [],
   "source": [
    "!mkdir -p dataset\n",
    "!kaggle datasets download -d msambare/fer2013 -p dataset --unzip\n"
   ]
  },
  {
   "cell_type": "code",
   "execution_count": null,
   "id": "9b8baef4",
   "metadata": {
    "vscode": {
     "languageId": "plaintext"
    }
   },
   "outputs": [],
   "source": [
    "from tensorflow.keras.preprocessing.image import ImageDataGenerator\n"
   ]
  },
  {
   "cell_type": "code",
   "execution_count": null,
   "id": "00be59b0",
   "metadata": {
    "vscode": {
     "languageId": "plaintext"
    }
   },
   "outputs": [],
   "source": [
    "train_dir = \"./dataset/train\"\n",
    "test_dir = \"./dataset/test\"\n"
   ]
  },
  {
   "cell_type": "code",
   "execution_count": null,
   "id": "ab334c74",
   "metadata": {
    "vscode": {
     "languageId": "plaintext"
    }
   },
   "outputs": [],
   "source": [
    "train_datagen = ImageDataGenerator(\n",
    "    width_shift_range = 0.1,        # Randomly shift the width of images by up to 10%\n",
    "    height_shift_range = 0.1,       # Randomly shift the height of images by up to 10%\n",
    "    horizontal_flip = True,         # Flip images horizontally at random\n",
    "    rescale = 1./255,               # Rescale pixel values to be between 0 and 1\n",
    "    validation_split = 0.2          # Set aside 20% of the data for validation\n",
    ")\n",
    "\n",
    "validation_datagen = ImageDataGenerator(\n",
    "    rescale = 1./255,               # Rescale pixel values to be between 0 and 1\n",
    "    validation_split = 0.2          # Set aside 20% of the data for validation\n",
    ")"
   ]
  },
  {
   "cell_type": "code",
   "execution_count": null,
   "id": "ca37c240",
   "metadata": {
    "vscode": {
     "languageId": "plaintext"
    }
   },
   "outputs": [],
   "source": [
    "train_generator = train_datagen.flow_from_directory(\n",
    "    directory = train_dir,           # Directory containing the training data\n",
    "    target_size = (48, 48),          # Resizes all images to 48x48 pixels\n",
    "    batch_size = 64,                 # Number of images per batch\n",
    "    color_mode = \"grayscale\",        # Converts the images to grayscale\n",
    "    class_mode = \"categorical\",      # Classifies the images into 7 categories\n",
    "    subset = \"training\"              # Uses the training subset of the data\n",
    ")\n",
    "\n",
    "validation_generator = validation_datagen.flow_from_directory(\n",
    "    directory = test_dir,            # Directory containing the validation data\n",
    "    target_size = (48, 48),          # Resizes all images to 48x48 pixels\n",
    "    batch_size = 64,                 # Number of images per batch\n",
    "    color_mode = \"grayscale\",        # Converts the images to grayscale\n",
    "    class_mode = \"categorical\",      # Classifies the images into 7 categories\n",
    "    subset = \"validation\"            # Uses the validation subset of the data\n",
    ")"
   ]
  },
  {
   "cell_type": "code",
   "execution_count": null,
   "id": "856b2a10",
   "metadata": {
    "vscode": {
     "languageId": "plaintext"
    }
   },
   "outputs": [],
   "source": [
    "from tensorflow.keras.layers import BatchNormalization\n"
   ]
  },
  {
   "cell_type": "code",
   "execution_count": null,
   "id": "b6ac178c",
   "metadata": {
    "vscode": {
     "languageId": "plaintext"
    }
   },
   "outputs": [],
   "source": [
    "from tensorflow.keras.layers import Dense, Dropout, Flatten\n",
    "from tensorflow.keras.layers import Conv2D, MaxPooling2D\n",
    "from tensorflow.keras.models import Sequential\n",
    "import tensorflow as tf\n",
    "\n",
    "# Define the model architecture\n",
    "model = Sequential()\n",
    "\n",
    "# Add a convolutional layer with 32 filters, 3x3 kernel size, and relu activation function\n",
    "model.add(tf.keras.Input(shape=(48, 48, 1)))\n",
    "model.add(Conv2D(32, kernel_size=(3, 3), activation='relu'))\n",
    "# Add a batch normalization layer\n",
    "model.add(BatchNormalization())\n",
    "# Add a second convolutional layer with 64 filters, 3x3 kernel size, and relu activation function\n",
    "model.add(Conv2D(64, kernel_size=(3, 3), activation='relu'))\n",
    "# Add a second batch normalization layer\n",
    "model.add(BatchNormalization())\n",
    "# Add a max pooling layer with 2x2 pool size\n",
    "model.add(MaxPooling2D(pool_size=(2, 2)))\n",
    "# Add a dropout layer with 0.25 dropout rate\n",
    "model.add(Dropout(0.25))\n",
    "\n",
    "# Add a third convolutional layer with 128 filters, 3x3 kernel size, and relu activation function\n",
    "model.add(Conv2D(128, kernel_size=(3, 3), activation='relu'))\n",
    "# Add a third batch normalization layer\n",
    "model.add(BatchNormalization())\n",
    "# Add a fourth convolutional layer with 128 filters, 3x3 kernel size, and relu activation function\n",
    "model.add(Conv2D(128, kernel_size=(3, 3), activation='relu'))\n",
    "# Add a fourth batch normalization layer\n",
    "model.add(BatchNormalization())\n",
    "# Add a max pooling layer with 2x2 pool size\n",
    "model.add(MaxPooling2D(pool_size=(2, 2)))\n",
    "# Add a dropout layer with 0.25 dropout rate\n",
    "model.add(Dropout(0.25))\n",
    "\n",
    "# Add a fifth convolutional layer with 256 filters, 3x3 kernel size, and relu activation function\n",
    "model.add(Conv2D(256, kernel_size=(3, 3), activation='relu'))\n",
    "# Add a fifth batch normalization layer\n",
    "model.add(BatchNormalization())\n",
    "# Add a sixth convolutional layer with 256 filters, 3x3 kernel size, and relu activation function\n",
    "model.add(Conv2D(256, kernel_size=(3, 3), activation='relu'))\n",
    "# Add a sixth batch normalization layer\n",
    "model.add(BatchNormalization())\n",
    "# Add a max pooling layer with 2x2 pool size\n",
    "model.add(MaxPooling2D(pool_size=(2, 2)))\n",
    "# Add a dropout layer with 0.25 dropout rate\n",
    "model.add(Dropout(0.25))\n",
    "\n",
    "# Flatten the output of the convolutional layers\n",
    "model.add(Flatten())\n",
    "# Add a dense layer with 256 neurons and relu activation function\n",
    "model.add(Dense(256, activation='relu'))\n",
    "# Add a seventh batch normalization layer\n",
    "model.add(BatchNormalization())\n",
    "# Add a dropout layer with 0.5 dropout rate\n",
    "model.add(Dropout(0.5))\n",
    "# Add a dense layer with 7 neurons (one for each class) and softmax activation function\n",
    "model.add(Dense(7, activation='softmax'))\n",
    "\n",
    "# Compile the model with categorical cross-entropy loss, adam optimizer, and accuracy metric\n",
    "model.compile(loss=\"categorical_crossentropy\", optimizer=tf.keras.optimizers.Adam(learning_rate=0.0001), metrics=['accuracy'])\n"
   ]
  },
  {
   "cell_type": "code",
   "execution_count": null,
   "id": "8b88c60d",
   "metadata": {
    "vscode": {
     "languageId": "plaintext"
    }
   },
   "outputs": [],
   "source": [
    "from tensorflow.keras.callbacks import ModelCheckpoint\n",
    "\n",
    "# Define the callback\n",
    "checkpoint_callback = ModelCheckpoint(\n",
    "    filepath='model_weights.weights.h5',  # Updated filename\n",
    "    monitor='val_accuracy',\n",
    "    save_best_only=True,\n",
    "    save_weights_only=True,\n",
    "    mode='max',\n",
    "    verbose=1\n",
    ")\n",
    "\n",
    "# Train the model with the callback\n",
    "history = model.fit(\n",
    "    train_generator,\n",
    "    steps_per_epoch=len(train_generator),\n",
    "    epochs=50,\n",
    "    validation_data=validation_generator,\n",
    "    validation_steps=len(validation_generator),\n",
    "    callbacks=[checkpoint_callback]\n",
    ")\n"
   ]
  },
  {
   "cell_type": "code",
   "execution_count": null,
   "id": "41eaa391",
   "metadata": {
    "vscode": {
     "languageId": "plaintext"
    }
   },
   "outputs": [],
   "source": [
    "# After training, predict on a new image\n",
    "from tensorflow.keras.preprocessing import image\n",
    "import numpy as np\n",
    "\n",
    "# Load the image\n",
    "img_path = \"/content/WhatsApp Image 2025-03-10 at 12.10.03.jpeg\"  # Replace with the actual image path\n",
    "img = image.load_img(img_path, color_mode=\"grayscale\", target_size=(48, 48))\n",
    "\n",
    "# Convert the image to an array\n",
    "img_array = image.img_to_array(img)\n",
    "img_array = np.expand_dims(img_array, axis=0)  # Add batch dimension\n",
    "img_array /= 255.0  # Normalize the image\n",
    "\n",
    "# Make a prediction\n",
    "prediction = model.predict(img_array)\n",
    "predicted_class = np.argmax(prediction)\n",
    "\n",
    "# Print the predicted class\n",
    "class_names = list(train_generator.class_indices.keys())  # Get class labels\n",
    "print(f\"Predicted class: {class_names[predicted_class]}\")"
   ]
  },
  {
   "cell_type": "code",
   "execution_count": null,
   "id": "cde9ed7c",
   "metadata": {
    "vscode": {
     "languageId": "plaintext"
    }
   },
   "outputs": [],
   "source": [
    "import numpy as np\n",
    "import matplotlib.pyplot as plt\n",
    "# Plot the train and validation loss\n",
    "train_loss = history.history['loss']\n",
    "val_loss = history.history['val_loss']\n",
    "epochs = range(1, len(train_loss) + 1)\n",
    "plt.plot(epochs, train_loss, 'bo', label='Training loss')\n",
    "plt.plot(epochs, val_loss, 'b', label='Validation loss')\n",
    "plt.title('Training and validation loss')\n",
    "plt.xlabel('Epochs')\n",
    "plt.ylabel('Loss')\n",
    "plt.legend()\n",
    "plt.show()"
   ]
  },
  {
   "cell_type": "code",
   "execution_count": null,
   "id": "7580a47c",
   "metadata": {
    "vscode": {
     "languageId": "plaintext"
    }
   },
   "outputs": [],
   "source": [
    "# Plot the train and validation accuracy\n",
    "train_acc = history.history['accuracy']\n",
    "val_acc = history.history['val_accuracy']\n",
    "plt.plot(epochs, train_acc, 'bo', label='Training accuracy')\n",
    "plt.plot(epochs, val_acc, 'b', label='Validation accuracy')\n",
    "plt.title('Training and validation accuracy')\n",
    "plt.xlabel('Epochs')\n",
    "plt.ylabel('Accuracy')\n",
    "plt.legend()\n",
    "plt.show()"
   ]
  },
  {
   "cell_type": "code",
   "execution_count": null,
   "id": "799080f6",
   "metadata": {
    "vscode": {
     "languageId": "plaintext"
    }
   },
   "outputs": [],
   "source": [
    "import seaborn as sns\n",
    "from sklearn.metrics import confusion_matrix\n",
    "\n",
    "# Get the true labels and predicted labels for the validation set\n",
    "validation_labels = validation_generator.classes\n",
    "validation_pred_probs = model.predict(validation_generator)\n",
    "validation_pred_labels = np.argmax(validation_pred_probs, axis=1)\n",
    "\n",
    "# Compute the confusion matrix\n",
    "confusion_mtx = confusion_matrix(validation_labels, validation_pred_labels)\n",
    "class_names = list(train_generator.class_indices.keys())\n",
    "sns.set()\n",
    "sns.heatmap(confusion_mtx, annot=True, fmt='d', cmap='YlGnBu',\n",
    "            xticklabels=class_names, yticklabels=class_names)\n",
    "plt.xlabel('Predicted Label')\n",
    "plt.ylabel('True Label')\n",
    "plt.title('Confusion Matrix')\n",
    "plt.show()"
   ]
  }
 ],
 "metadata": {
  "language_info": {
   "name": "python"
  }
 },
 "nbformat": 4,
 "nbformat_minor": 5
}
